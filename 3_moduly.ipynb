{
  "cells": [
    {
      "cell_type": "markdown",
      "metadata": {
        "id": "view-in-github",
        "colab_type": "text"
      },
      "source": [
        "<a href=\"https://colab.research.google.com/github/Filipriec/zaklady_pythonu/blob/main/3_moduly.ipynb\" target=\"_parent\"><img src=\"https://colab.research.google.com/assets/colab-badge.svg\" alt=\"Open In Colab\"/></a>"
      ]
    },
    {
      "cell_type": "markdown",
      "metadata": {
        "id": "G73OCUGDhzc9",
        "tags": [
          "en"
        ]
      },
      "source": [
        "## Importovanie Modulov\n",
        "\n",
        "Existuje veľké množstvo Python balíkov s užitočnou funkcionalitou. V súčasnosti je Python de-facto jazykom umelej inteligencie a strojového učenia. Keď je balík nainštalovaný, je potrebné ho iba importovať ako modul pomocou kľúčového slova `import`. Napríklad modul `numpy` môže byť importovaný nasledovne:"
      ]
    },
    {
      "cell_type": "code",
      "execution_count": null,
      "metadata": {
        "id": "8aEEVV4ihzdW"
      },
      "outputs": [],
      "source": [
        "import numpy"
      ]
    },
    {
      "cell_type": "markdown",
      "source": [
        "There is a difference between module and package.\n",
        "\n",
        "A module is a single .py file that contains Python code (functions, classes, variables).\n",
        "\n",
        "A package is a directory that groups modules (and subpackages) together — usually contains an __init__.py.\n",
        "\n",
        "Still, the ```import``` statement treats packages and modules in the same way: it can load either a module or a package (and it can load submodules of a package using dotted names, e.g. ```import package.submodule```)."
      ],
      "metadata": {
        "id": "Lc_7tPLd2jM7"
      }
    },
    {
      "cell_type": "markdown",
      "metadata": {
        "id": "svEN4_muhzeK",
        "tags": [
          "en"
        ]
      },
      "source": [
        "After importing the module, we can refer to its functions. The `numpy` module contains a wide range of numeric functions, tools for handling arrays and matrices and more. To compute the sine function, for an instance, we can use `numpy` as follows:\n",
        "\n"
      ]
    },
    {
      "cell_type": "code",
      "execution_count": null,
      "metadata": {
        "id": "57tv8k4KhzeR"
      },
      "outputs": [],
      "source": [
        "import numpy\n",
        "\n",
        "print(numpy.sin(15))"
      ]
    },
    {
      "cell_type": "markdown",
      "metadata": {
        "id": "W2cIwit8hzeh",
        "tags": [
          "en"
        ]
      },
      "source": [
        "It is often useful to import a module under some alternative, shortened name. It is possible to do this as follows:\n",
        "\n"
      ]
    },
    {
      "cell_type": "code",
      "execution_count": null,
      "metadata": {
        "id": "7zS9HeQ8hzej"
      },
      "outputs": [],
      "source": [
        "import numpy as np\n",
        "\n",
        "print(np.sin(15))"
      ]
    },
    {
      "cell_type": "markdown",
      "metadata": {
        "id": "5SHq6rEThze0",
        "tags": [
          "en"
        ]
      },
      "source": [
        "It is also possible to import particular functions from modules into the current namespace. Then we do not need to refer to them using the package name at all, e.g.:\n",
        "\n"
      ]
    },
    {
      "cell_type": "code",
      "execution_count": null,
      "metadata": {
        "id": "m12Vph-1hze3"
      },
      "outputs": [],
      "source": [
        "from numpy import sin\n",
        "\n",
        "print(sin(15))"
      ]
    },
    {
      "cell_type": "markdown",
      "metadata": {
        "id": "QhgPcoFchzfB",
        "tags": [
          "en"
        ]
      },
      "source": [
        "We can also import everything from a module, but this alternative is rarely to be used, because it can easily result in confusing and unmaintainable code (a function with the same identifier can easily exist in multiple modules, which can lead to unforeseen clashes, functions rewriting each other and so on):\n",
        "\n"
      ]
    },
    {
      "cell_type": "code",
      "execution_count": null,
      "metadata": {
        "id": "gR1qivT1hzfE"
      },
      "outputs": [],
      "source": [
        "from numpy import *\n",
        "\n",
        "print(cos(15))"
      ]
    },
    {
      "cell_type": "markdown",
      "source": [
        "Also, you can import functions directly from a submodule and use them."
      ],
      "metadata": {
        "id": "uqYYjgwb37Sq"
      }
    },
    {
      "cell_type": "code",
      "source": [
        "\n",
        "import numpy as np\n",
        "\n",
        "A = np.array([[1.0, 2.0],\n",
        "              [3.0, 4.0]])\n",
        "\n",
        "from numpy.linalg import inv, eig  # direct import from submodule\n",
        "\n",
        "print(\"Matrix A:\\n\", A)\n",
        "print(\"\\nInverse via numpy.linalg.inv(A):\\n\", inv(A))"
      ],
      "metadata": {
        "id": "KY1B3ooy37iF"
      },
      "execution_count": null,
      "outputs": []
    },
    {
      "cell_type": "markdown",
      "metadata": {
        "id": "B0WqT7U1hzfQ",
        "tags": [
          "en"
        ]
      },
      "source": [
        "---\n",
        "### Task\n",
        "\n",
        "**Use module `numpy` to create code, which will print the hyperbolic tangent of number 0.95.**\n",
        "\n",
        "Try to use [Numpy documentation](https://numpy.org/doc/) if you need some help.\n",
        "\n",
        "---\n"
      ]
    },
    {
      "cell_type": "code",
      "execution_count": null,
      "metadata": {
        "id": "j70FTY6LhzfS"
      },
      "outputs": [],
      "source": []
    }
  ],
  "metadata": {
    "celltoolbar": "Tags",
    "colab": {
      "provenance": [],
      "include_colab_link": true
    },
    "kernelspec": {
      "display_name": "Python 3",
      "language": "python",
      "name": "python3"
    },
    "language_info": {
      "codemirror_mode": {
        "name": "ipython",
        "version": 3
      },
      "file_extension": ".py",
      "mimetype": "text/x-python",
      "name": "python",
      "nbconvert_exporter": "python",
      "pygments_lexer": "ipython3",
      "version": "3.7.5"
    }
  },
  "nbformat": 4,
  "nbformat_minor": 0
}