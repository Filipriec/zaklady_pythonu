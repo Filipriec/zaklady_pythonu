{
  "cells": [
    {
      "cell_type": "markdown",
      "metadata": {
        "id": "view-in-github",
        "colab_type": "text"
      },
      "source": [
        "<a href=\"https://colab.research.google.com/github/Filipriec/zaklady_pythonu/blob/main/3_moduly.ipynb\" target=\"_parent\"><img src=\"https://colab.research.google.com/assets/colab-badge.svg\" alt=\"Open In Colab\"/></a>"
      ]
    },
    {
      "cell_type": "markdown",
      "metadata": {
        "id": "G73OCUGDhzc9",
        "tags": [
          "en"
        ]
      },
      "source": [
        "## Importovanie Modulov\n",
        "\n",
        "Existuje veľké množstvo Python balíkov s užitočnou funkcionalitou. V súčasnosti je Python de-facto jazykom umelej inteligencie a strojového učenia. Keď je balík nainštalovaný, je potrebné ho iba importovať ako modul pomocou kľúčového slova `import`. Napríklad modul `numpy` môže byť importovaný nasledovne:"
      ]
    },
    {
      "cell_type": "code",
      "execution_count": null,
      "metadata": {
        "id": "8aEEVV4ihzdW"
      },
      "outputs": [],
      "source": [
        "import numpy"
      ]
    },
    {
      "cell_type": "markdown",
      "source": [
        "Existuje rozdiel medzi modulom a balíkom.\n",
        "\n",
        "Modul je jeden .py súbor, ktorý obsahuje Python kód (funkcie, triedy, premenné).\n",
        "\n",
        "Balík je adresár, ktorý zoskupuje moduly (a podbalíky) dokopy — zvyčajne obsahuje __init__.py.\n",
        "\n",
        "Napriek tomu príkaz ```import``` zaobchádza s balíkmi a modulmi rovnakým spôsobom: môže načítať buď modul alebo balík (a môže načítať submoduly balíka pomocou bodkových názvov, napr. ```import package.submodule```)."
      ],
      "metadata": {
        "id": "Lc_7tPLd2jM7"
      }
    },
    {
      "cell_type": "markdown",
      "metadata": {
        "id": "svEN4_muhzeK",
        "tags": [
          "en"
        ]
      },
      "source": [
        "Po importovaní modulu môžeme odkazovať na jeho funkcie. Modul `numpy` obsahuje širokú škálu numerických funkcií, nástrojov na prácu s poľami a maticami a ďalšie. Na výpočet funkcie sínus môžeme napríklad použiť `numpy` nasledovne:"
      ]
    },
    {
      "cell_type": "code",
      "execution_count": null,
      "metadata": {
        "id": "57tv8k4KhzeR"
      },
      "outputs": [],
      "source": [
        "import numpy\n",
        "\n",
        "print(numpy.sin(15))"
      ]
    },
    {
      "cell_type": "markdown",
      "metadata": {
        "id": "W2cIwit8hzeh",
        "tags": [
          "en"
        ]
      },
      "source": [
        "Často je užitočné importovať modul pod nejakým alternatívnym, skráteným názvom. Je možné to urobiť nasledovne:"
      ]
    },
    {
      "cell_type": "code",
      "execution_count": null,
      "metadata": {
        "id": "7zS9HeQ8hzej"
      },
      "outputs": [],
      "source": [
        "import numpy as np\n",
        "\n",
        "print(np.sin(15))"
      ]
    },
    {
      "cell_type": "markdown",
      "metadata": {
        "id": "5SHq6rEThze0",
        "tags": [
          "en"
        ]
      },
      "source": [
        "Je tiež možné importovať konkrétne funkcie z modulov do aktuálneho menného priestoru. Potom sa na ne vôbec nemusíme odkazovať pomocou názvu balíka, napr.:"
      ]
    },
    {
      "cell_type": "code",
      "execution_count": null,
      "metadata": {
        "id": "m12Vph-1hze3"
      },
      "outputs": [],
      "source": [
        "from numpy import sin\n",
        "\n",
        "print(sin(15))"
      ]
    },
    {
      "cell_type": "markdown",
      "metadata": {
        "id": "QhgPcoFchzfB",
        "tags": [
          "en"
        ]
      },
      "source": [
        "We can also import everything from a module, but this alternative is rarely to be used, because it can easily result in confusing and unmaintainable code (a function with the same identifier can easily exist in multiple modules, which can lead to unforeseen clashes, functions rewriting each other and so on):\n",
        "\n"
      ]
    },
    {
      "cell_type": "code",
      "execution_count": null,
      "metadata": {
        "id": "gR1qivT1hzfE"
      },
      "outputs": [],
      "source": [
        "from numpy import *\n",
        "\n",
        "print(cos(15))"
      ]
    },
    {
      "cell_type": "markdown",
      "source": [
        "Tiež môžete importovať funkcie priamo z submodulu a použiť ich.\n"
      ],
      "metadata": {
        "id": "uqYYjgwb37Sq"
      }
    },
    {
      "cell_type": "code",
      "source": [
        "\n",
        "import numpy as np\n",
        "\n",
        "A = np.array([[1.0, 2.0],\n",
        "              [3.0, 4.0]])\n",
        "\n",
        "from numpy.linalg import inv, eig  # priamy import zo submodulu\n",
        "\n",
        "print(\"Matrix A:\\n\", A)\n",
        "print(\"\\nInverse via numpy.linalg.inv(A):\\n\", inv(A))"
      ],
      "metadata": {
        "id": "KY1B3ooy37iF"
      },
      "execution_count": null,
      "outputs": []
    },
    {
      "cell_type": "markdown",
      "metadata": {
        "id": "B0WqT7U1hzfQ",
        "tags": [
          "en"
        ]
      },
      "source": [
        "---\n",
        "### Úloha\n",
        "\n",
        "**Použite modul `numpy` na vytvorenie kódu, ktorý vypíše hyperbolický tangens čísla 0.95.**\n",
        "\n",
        "Ak potrebujete pomoc, skúste použiť [dokumentáciu Numpy](https://numpy.org/doc/).\n",
        "\n",
        "---"
      ]
    },
    {
      "cell_type": "code",
      "execution_count": null,
      "metadata": {
        "id": "j70FTY6LhzfS"
      },
      "outputs": [],
      "source": []
    }
  ],
  "metadata": {
    "celltoolbar": "Tags",
    "colab": {
      "provenance": [],
      "include_colab_link": true
    },
    "kernelspec": {
      "display_name": "Python 3",
      "language": "python",
      "name": "python3"
    },
    "language_info": {
      "codemirror_mode": {
        "name": "ipython",
        "version": 3
      },
      "file_extension": ".py",
      "mimetype": "text/x-python",
      "name": "python",
      "nbconvert_exporter": "python",
      "pygments_lexer": "ipython3",
      "version": "3.7.5"
    }
  },
  "nbformat": 4,
  "nbformat_minor": 0
}