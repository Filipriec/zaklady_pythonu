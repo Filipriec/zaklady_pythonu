{
  "cells": [
    {
      "cell_type": "markdown",
      "metadata": {
        "id": "view-in-github",
        "colab_type": "text"
      },
      "source": [
        "<a href=\"https://colab.research.google.com/github/Filipriec/zaklady_pythonu/blob/main/5_dictionary.ipynb\" target=\"_parent\"><img src=\"https://colab.research.google.com/assets/colab-badge.svg\" alt=\"Open In Colab\"/></a>"
      ]
    },
    {
      "cell_type": "markdown",
      "metadata": {
        "id": "QVELluJdiHF_",
        "tags": [
          "en"
        ]
      },
      "source": [
        "## Dictionary – `dict`\n",
        "\n",
        "Another useful Python container is called the dictonary, or `dict`. A dictionary is not indexed using numbers, but rather using arbitrary objects (as long as they can be hashed), most often using strings.\n",
        "\n",
        "Let us suppose that there are three movies in the cinema: Superman IV., Hobbit and Rogue One and we want to store the price of the tickets for each, so that we can query for it using the title of the movie:\n",
        "\n"
      ]
    },
    {
      "cell_type": "code",
      "execution_count": null,
      "metadata": {
        "id": "SOu0xTFziHGI"
      },
      "outputs": [],
      "source": [
        "ticket_price = {'superman_iv': 5, 'hobbit': 7, 'rogue_one': 11}\n",
        "print(ticket_price['hobbit'])"
      ]
    },
    {
      "cell_type": "markdown",
      "metadata": {
        "id": "z6o_OkNRiHGY",
        "tags": [
          "en"
        ]
      },
      "source": [
        "### An Empty Dictionary\n",
        "\n",
        "We can also create an empty dictionary:\n",
        "\n"
      ]
    },
    {
      "cell_type": "code",
      "execution_count": null,
      "metadata": {
        "id": "ciJTFl0WiHGc"
      },
      "outputs": [],
      "source": [
        "ticket_price = {}\n",
        "print(ticket_price)\n",
        "\n",
        "ticket_price2 = dict()\n",
        "print(ticket_price2)"
      ]
    },
    {
      "cell_type": "markdown",
      "metadata": {
        "id": "A30ruDHGiHGl",
        "tags": [
          "en"
        ]
      },
      "source": [
        "### Adding New Elements\n",
        "\n",
        "To add new elements to a dictionary, we only need to index them and assign a value:\n",
        "\n"
      ]
    },
    {
      "cell_type": "code",
      "execution_count": null,
      "metadata": {
        "id": "U8Qe-TB-iHGo"
      },
      "outputs": [],
      "source": [
        "ticket_price = {}\n",
        "ticket_price[\"shadowlands\"] = 7\n",
        "ticket_price[\"alice_in_wonderland\"] = 4\n",
        "\n",
        "print(ticket_price)"
      ]
    },
    {
      "cell_type": "markdown",
      "metadata": {
        "id": "Fl2OhRMriHGx",
        "tags": [
          "en"
        ]
      },
      "source": [
        "### Does the Dictionary Contain Key x?\n",
        "\n",
        "If we want to check whether a dictionary contains a certain key, we can do this using keyword `in`:\n",
        "\n"
      ]
    },
    {
      "cell_type": "code",
      "execution_count": null,
      "metadata": {
        "id": "lWD0yOfUiHGz"
      },
      "outputs": [],
      "source": [
        "ticket_price = {'superman_iv': 5, 'hobbit': 7, 'rogue_one': 11}\n",
        "\n",
        "key1 = 'hobbit'\n",
        "if key1 in ticket_price:\n",
        "  ticket_price[key1] = 9\n"
      ]
    },
    {
      "cell_type": "markdown",
      "source": [
        "Or alternatively you can also use try-except to check the presence (and modify it) of a key in dictionary."
      ],
      "metadata": {
        "id": "7DnyCMu5giRt"
      }
    },
    {
      "cell_type": "code",
      "source": [
        "#  key1 = 'batman' # uncomment this line to raise the error\n",
        "try:\n",
        "  ticket_price[key1] = 9\n",
        "except KeyError:\n",
        "  print(f\"key: {key1} not found in dictionary\")"
      ],
      "metadata": {
        "id": "ENbv4cdCgqwH"
      },
      "execution_count": null,
      "outputs": []
    },
    {
      "cell_type": "markdown",
      "source": [
        "Another way is to return a default value if the key is not contaied."
      ],
      "metadata": {
        "id": "rT9EsQkP7-l3"
      }
    },
    {
      "cell_type": "code",
      "source": [
        "key1 = 'batman'\n",
        "price = ticket_price.get(key1, -1) # second argument is the default value\n",
        "print(f\"Price of {key1} movie is: {price}\")"
      ],
      "metadata": {
        "id": "BKkxFOvb8Heo"
      },
      "execution_count": null,
      "outputs": []
    },
    {
      "cell_type": "markdown",
      "metadata": {
        "id": "y4SsdoF5iHHE",
        "tags": [
          "en"
        ]
      },
      "source": [
        "### Deleting Elements from a Dictionary\n",
        "\n",
        "Deleting elements from a dictionary is analogical to deleting from a list – we will again use keyword `del`:\n",
        "\n"
      ]
    },
    {
      "cell_type": "code",
      "execution_count": null,
      "metadata": {
        "id": "DAliKZ40iHHI"
      },
      "outputs": [],
      "source": [
        "ticket_price = {'superman_iv': 5, 'hobbit': 7, 'rogue_one': 11}\n",
        "del ticket_price['superman_iv']\n",
        "\n",
        "print(ticket_price)"
      ]
    },
    {
      "cell_type": "markdown",
      "metadata": {
        "id": "M3jeCKRHiHHQ",
        "tags": [
          "en"
        ]
      },
      "source": [
        "### Iterating over Dictionaries\n",
        "\n",
        "Iteration over dictionaries can be done in one of three ways: over (key, value) pairs, over keys separately, or over values separately:\n",
        "\n"
      ]
    },
    {
      "cell_type": "code",
      "execution_count": null,
      "metadata": {
        "id": "1nAbu0qsiHHS"
      },
      "outputs": [],
      "source": [
        "ticket_price = {'superman_iv': 5, 'hobbit': 7, 'rogue_one': 11}\n",
        "\n",
        "print(\"over pairs:\")\n",
        "for k, v in ticket_price.items():\n",
        "    print(k, v)\n",
        "\n",
        "print(\"\\nover keys:\")\n",
        "for k in ticket_price.keys():\n",
        "    print(k)\n",
        "\n",
        "print(\"\\nover values:\")\n",
        "for v in ticket_price.values():\n",
        "    print(v)"
      ]
    },
    {
      "cell_type": "markdown",
      "metadata": {
        "id": "T8EsRWlwiHHb",
        "tags": [
          "en"
        ]
      },
      "source": [
        "### Dictionary Comprehensions\n",
        "\n",
        "Analogically to lists, dictionaries can also be created using comprehensions, e.g.:\n",
        "\n"
      ]
    },
    {
      "cell_type": "code",
      "execution_count": null,
      "metadata": {
        "id": "fOy1n67oiHHd"
      },
      "outputs": [],
      "source": [
        "movies = ['superman_iv', 'hobbit', 'rogue_one']\n",
        "prices = [5, 7, 11]\n",
        "\n",
        "ticket_price = {k: v for k, v in zip(movies, prices)}\n",
        "\n",
        "print(ticket_price)"
      ]
    },
    {
      "cell_type": "markdown",
      "source": [
        "To merge two dictionaries you can use dictionary unpacking operator `**`. From Python 3.9 and upper versions you can use the `|` operator."
      ],
      "metadata": {
        "id": "4m18JF7vkQG5"
      }
    },
    {
      "cell_type": "code",
      "execution_count": null,
      "metadata": {
        "id": "Yr5qieRWiKQH"
      },
      "outputs": [],
      "source": [
        "czechoslovak_ticket_prices = {'Pacho the Brigand of Hybe': 3, 'The Millennial Bee': 4, 'The Shop on Main Street': 3}\n",
        "\n",
        "all_ticket_prices = {**czechoslovak_ticket_prices, **ticket_price}\n",
        "\n",
        "print(f\"merged dictionaries: {all_ticket_prices}\")\n",
        "\n",
        "all_ticket_prices = czechoslovak_ticket_prices | ticket_price\n",
        "print(f\"merged dictionaries from Python 3.9: {all_ticket_prices}\")"
      ]
    },
    {
      "cell_type": "markdown",
      "source": [
        "# Tasks\n"
      ],
      "metadata": {
        "id": "C0FgSlVsmJ2F"
      }
    },
    {
      "cell_type": "markdown",
      "source": [
        "## Task set 1 — Basic dictionary operations\n",
        "\n",
        "1. Increase the price of the **Hobbit** movie by `1` in the `all_ticket_prices` dictionary.  \n",
        "2. Remove **\"Pacho the Brigand of Hybe\"** from the movies.  \n",
        "3. Print all movie titles.  \n",
        "4. Add a new movie — **[The Cremator](https://www.csfd.cz/film/4244-spalovac-mrtvol/prehled/)** — with a price of `7`.  \n",
        "5. Set the price of every movie that costs **6 or more** to `6` (apply a discount to cap such prices at 6).  \n",
        "6. Invert the movies dictionary so that prices are keys and movie titles are values. If multiple movies share the same price, use a list of titles as the value.\n"
      ],
      "metadata": {
        "id": "ziiE4wV1q_oy"
      }
    },
    {
      "cell_type": "code",
      "source": [],
      "metadata": {
        "id": "zemReIiSmHrz"
      },
      "execution_count": null,
      "outputs": []
    },
    {
      "cell_type": "markdown",
      "source": [
        "## Task set 2 — Sentence processing\n",
        "\n",
        "Below are a few sentences from [Romeo and Juliet](http://shakespeare.mit.edu/romeo_juliet/full.html) by William Shakespeare (1597), stored in a single string. Use the string methods `replace()` and `split()` to remove punctuation and split the string into individual words. Remember to normalize case (for example, convert the string to lowercase) so that word counts are case-insensitive.\n",
        "\n",
        "Finally, print each word together with its frequency (how many times it occurs). Make sure to ignore any empty strings that may appear after splitting.\n"
      ],
      "metadata": {
        "id": "w5JTpwnPyoec"
      }
    },
    {
      "cell_type": "code",
      "source": [
        "nurse_speaks = \"What, dress'd! and in your clothes! and down again! I must needs wake you; Lady! lady! lady! Alas, alas! Help, help! my lady's dead! O, well-a-day, that ever I was born! Some aqua vitae, ho! My lord! my lady!\""
      ],
      "metadata": {
        "id": "9og3pQ-yz502"
      },
      "execution_count": null,
      "outputs": []
    },
    {
      "cell_type": "markdown",
      "source": [
        "### Printing short words\n",
        "\n",
        "Create a function that prints all words shorter than *n* characters (where *n* is a parameter) from a list supplied as an argument. To demonstrate the function, use the list of words produced in the previous exercise. Ensure the function does not modify the original list and handles empty lists gracefully."
      ],
      "metadata": {
        "id": "K_QaiIdHn15D"
      }
    },
    {
      "cell_type": "code",
      "source": [],
      "metadata": {
        "id": "-6fUodferKsE"
      },
      "execution_count": null,
      "outputs": []
    },
    {
      "cell_type": "markdown",
      "source": [
        "## Task set 3 — Nested dictionary\n",
        "\n",
        "A *nested dictionary* is a dictionary that contains other dictionaries. The top-level dictionary `cinema_movies` maps cinema names to dictionaries of movies and their prices (for example: `{\"Cinema A\": {\"Movie X\": 5, \"Movie Y\": 6}, ...}`).\n",
        "\n",
        "Write code that, for each movie found in `cinema_movies`, prints the name of a cinema offering that movie at the **lowest price** and the corresponding price. If several cinemas offer the same lowest price for a movie, printing any one of them is sufficient. Format the output like: `Movie Title — Cinema Name: price`."
      ],
      "metadata": {
        "id": "8kjHnVeuw-zS"
      }
    },
    {
      "cell_type": "code",
      "source": [
        "cinema_movies = {\n",
        " 'star cinema':{ 'hobbit': 9, 'avatar': 8, 'The Millennial Bee': 5 },\n",
        " 'cinemini':{ 'hobbit': 8, 'avengers': 4, 'The Millennial Bee': 6 },\n",
        " 'hollywood cine':{ 'hobbit': 6, 'avatar': 7, 'avengers': 4 },\n",
        " 'silver cinemas': { 'medieval': 5, 'avatar': 7, 'avengers': 3 }\n",
        " }\n",
        "\n"
      ],
      "metadata": {
        "id": "WCXf4YFSxuFE"
      },
      "execution_count": null,
      "outputs": []
    }
  ],
  "metadata": {
    "celltoolbar": "Tags",
    "colab": {
      "provenance": [],
      "include_colab_link": true
    },
    "kernelspec": {
      "display_name": "Python 3",
      "language": "python",
      "name": "python3"
    },
    "language_info": {
      "codemirror_mode": {
        "name": "ipython",
        "version": 3
      },
      "file_extension": ".py",
      "mimetype": "text/x-python",
      "name": "python",
      "nbconvert_exporter": "python",
      "pygments_lexer": "ipython3",
      "version": "3.7.5"
    }
  },
  "nbformat": 4,
  "nbformat_minor": 0
}