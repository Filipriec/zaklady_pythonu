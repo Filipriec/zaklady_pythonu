{
  "cells": [
    {
      "cell_type": "markdown",
      "metadata": {
        "id": "view-in-github",
        "colab_type": "text"
      },
      "source": [
        "<a href=\"https://colab.research.google.com/github/Filipriec/zaklady_pythonu/blob/main/2_loops.ipynb\" target=\"_parent\"><img src=\"https://colab.research.google.com/assets/colab-badge.svg\" alt=\"Open In Colab\"/></a>"
      ]
    },
    {
      "cell_type": "markdown",
      "metadata": {
        "collapsed": true,
        "id": "bR3ML8e9hlS-",
        "tags": [
          "en"
        ]
      },
      "source": [
        "## Cykly\n",
        "\n",
        "V Pythone sa neiteruje pomocou klasických numerických `for` cyklov. Vždy sa iteruje cez objekt – buď cez nejaký kontajner iných objektov (t.j. vykonávanie určitých operácií pre každý objekt) alebo cez generátor – pomocný objekt, ktorý generuje veci za behu.\n",
        "\n",
        "### Pomocný objekt typu `range`\n",
        "\n",
        "V Pythone je numerický `for` cyklus implementovaný pomocou pomocného objektu `range`; `range(a)` zodpovedá postupnosti čísel od `0` po `a` s krokom `1` (takže `a` je prvé číslo, ktoré do postupnosti nepatří), t.j.:"
      ]
    },
    {
      "cell_type": "code",
      "execution_count": 1,
      "metadata": {
        "id": "HRNACdFAhlTH",
        "tags": [
          "en"
        ],
        "outputId": "155381d7-b9cd-4c43-9b52-aa9ce70facb4",
        "colab": {
          "base_uri": "https://localhost:8080/"
        }
      },
      "outputs": [
        {
          "output_type": "stream",
          "name": "stdout",
          "text": [
            "[0, 1, 2, 3, 4, 5, 6, 7, 8, 9]\n"
          ]
        }
      ],
      "source": [
        "print(list(range(10)))  # aby sme vypísali postupnosť čísel\n",
        "                        # naraz, najprv ju zmeníme na list"
      ]
    },
    {
      "cell_type": "markdown",
      "metadata": {
        "id": "qgVASP3FhlTY",
        "tags": [
          "en"
        ]
      },
      "source": [
        "If we would like to sequence to start from a different intial number, we can instead use the version with two arguments `range(a, b)`, e.g.:\n",
        "\n"
      ]
    },
    {
      "cell_type": "code",
      "execution_count": null,
      "metadata": {
        "id": "ZdgxvcorhlTb",
        "tags": [
          "en"
        ]
      },
      "outputs": [],
      "source": [
        "print(list(range(2, 10)))     # postupnosť od 2 po 10 s krokom 1"
      ]
    },
    {
      "cell_type": "markdown",
      "metadata": {
        "id": "zYmSCVyLhlTm",
        "tags": [
          "en"
        ]
      },
      "source": [
        "If we want to change the step size, there is a version with three arguments `range(a, b, s)`, where `s` is the step size:\n",
        "\n"
      ]
    },
    {
      "cell_type": "code",
      "execution_count": null,
      "metadata": {
        "id": "oh75EtkhhlTo",
        "tags": [
          "en"
        ]
      },
      "outputs": [],
      "source": [
        "print(list(range(2, 10, 3)))  # postupnosť od 2 po 10 s krokom 3"
      ]
    },
    {
      "cell_type": "markdown",
      "metadata": {
        "id": "VPDJtcurhlTx",
        "tags": [
          "en"
        ]
      },
      "source": [
        "### A `for` Loop\n",
        "\n",
        "If we now want to implement a `for` loop that will iterate from 0 to 10 with step size 1, we can do so using an auxialiary object `range`. We know that to get a `range` object with such paramters, we simply need to call `range(10)`. The `for` loop will then look as follows:\n",
        "\n"
      ]
    },
    {
      "cell_type": "code",
      "execution_count": null,
      "metadata": {
        "id": "jgBOyaJyhlTz",
        "tags": [
          "en"
        ]
      },
      "outputs": [],
      "source": [
        "for i in range(10):   # pre každé i v range(10), vypíše i\n",
        "    print(i)"
      ]
    },
    {
      "cell_type": "markdown",
      "metadata": {
        "id": "9kVsCsqahlT8",
        "tags": [
          "en"
        ]
      },
      "source": [
        "#### Parallel Iteration\n",
        "\n",
        "In Python it is possible to iterate over two objects in parallel – using function `zip`:\n",
        "\n"
      ]
    },
    {
      "cell_type": "code",
      "execution_count": null,
      "metadata": {
        "id": "lXnCbF59hlT_"
      },
      "outputs": [],
      "source": [
        "for i, j in zip(range(0, 5), range(5, 10)):\n",
        "    print(i, j)"
      ]
    },
    {
      "cell_type": "markdown",
      "metadata": {
        "id": "5Yf2wtdQhlUS",
        "tags": [
          "en"
        ]
      },
      "source": [
        "### A `while` Loop\n",
        "\n",
        "Just as other languages, Python has a `while` loop in addition to the `for` loop. A `while` loop iterates as long as a certain condition is met:\n",
        "\n"
      ]
    },
    {
      "cell_type": "code",
      "execution_count": null,
      "metadata": {
        "id": "Yi5uLHfwhlUc"
      },
      "outputs": [],
      "source": [
        "c = 2\n",
        "while c < 100:\n",
        "    c **= 2\n",
        "    print(c)"
      ]
    },
    {
      "cell_type": "markdown",
      "source": [
        "# Tasks\n",
        "\n",
        "Tasks\n",
        "\n",
        "\n",
        "\n",
        "\n",
        "\n",
        "\n",
        "\n",
        "1. Print the sequence of positive odd numbers less than 10 using the ```range()``` function.\n",
        "2. Print the even numbers from 1 to 20 using a loop and ```range()```.\n",
        "3. Print pairs of even and odd numbers from 2 to 15 using a single for loop and the ```zip()``` function. Format each pair as: Even is 2, odd is 3"
      ],
      "metadata": {
        "id": "te8RaqqPTWwQ"
      }
    },
    {
      "cell_type": "code",
      "source": [],
      "metadata": {
        "id": "hBOX_d8KUZB_"
      },
      "execution_count": null,
      "outputs": []
    }
  ],
  "metadata": {
    "celltoolbar": "Tags",
    "colab": {
      "provenance": [],
      "include_colab_link": true
    },
    "kernelspec": {
      "display_name": "Python 3",
      "language": "python",
      "name": "python3"
    },
    "language_info": {
      "codemirror_mode": {
        "name": "ipython",
        "version": 3
      },
      "file_extension": ".py",
      "mimetype": "text/x-python",
      "name": "python",
      "nbconvert_exporter": "python",
      "pygments_lexer": "ipython3",
      "version": "3.7.5"
    }
  },
  "nbformat": 4,
  "nbformat_minor": 0
}