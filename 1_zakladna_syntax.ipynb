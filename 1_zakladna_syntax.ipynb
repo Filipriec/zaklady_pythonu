{
  "cells": [
    {
      "cell_type": "markdown",
      "metadata": {
        "id": "view-in-github",
        "colab_type": "text"
      },
      "source": [
        "<a href=\"https://colab.research.google.com/github/Filipriec/zaklady_pythonu/blob/main/1_zakladna_syntax.ipynb\" target=\"_parent\"><img src=\"https://colab.research.google.com/assets/colab-badge.svg\" alt=\"Open In Colab\"/></a>"
      ]
    },
    {
      "cell_type": "markdown",
      "metadata": {
        "id": "aMGbnE2qLONP"
      },
      "source": [
        "<body><div class=\"clearfix\" style=\"padding: 10px; padding-left: 0px\">\n",
        "<img src=\"https://raw.githubusercontent.com/jupyter/nature-demo/master/images/jupyter-logo.png\" width=\"150px\" style=\"display: inline-block; margin-top: 5px;\">\n",
        "<img src=\"https://www.python.org/static/community_logos/python-logo-master-v3-TM.png\" width=\"150px\" style=\"display: inline-block; margin-top: 5px;\">\n",
        "</div></body></html>\n",
        "\n"
      ]
    },
    {
      "cell_type": "markdown",
      "metadata": {
        "tags": [
          "en"
        ],
        "id": "nKUCqg5iNVLd"
      },
      "source": [
        "## Rýchly kurz Pythonu (3.x)\n",
        "\n",
        "Tento úvod do Pythonu má formu iPython notebookov. Notebooky nám umožňujú kombinovať formátovaný text a obrázky so zdrojovým kódom, ktorý je možné spustiť, otestovať, upraviť, použiť na generovanie interaktívnych grafov atď. priamo v notebooku.\n"
      ]
    },
    {
      "cell_type": "markdown",
      "metadata": {
        "tags": [
          "en"
        ],
        "id": "vr_nYGq_NVLe"
      },
      "source": [
        "### Ako spustiť kód?\n",
        "\n",
        "Kód je možné spustiť nasledovne:\n",
        "\n",
        "1. Označíme bunku obsahujúcu kód kliknutím na ňu.\n",
        "2. Stlačíme `CTRL+ENTER` alebo klikneme na tlačidlo prehrania.\n",
        "\n",
        "Detaily o tom, ako používať rozhranie notebooku, závisia od toho, či používate Jupyter notebooky, Google Colab notebooky, Kaggle notebooky alebo inú verziu. Najjednoduchšie je preto si ich vyhľadať v dokumentácii príslušného rozhrania.\n",
        "\n",
        "Užitočné klávesové skratky sú:\n",
        "\n",
        "- `Shift+Enter`: Spustí bunku a vyberie nasledujúcu bunku\n",
        "- `Ctrl+Alt+N`: Otvorí odkladaciu kódovú bunku. V odkladacej kódovej bunke môžete vyskúšať svoje kódy, ktoré budú vykonané v prostredí notebooku."
      ]
    },
    {
      "cell_type": "markdown",
      "metadata": {
        "tags": [
          "en"
        ],
        "id": "HRzgjm_vNVLf"
      },
      "source": [
        "## Pomocník\n",
        "\n",
        "Dokumentáciu k notebooku nájdete v ponuke Help (Pomocník). Je tiež možné vyhľadať informácie o konkrétnych funkciách, triedach, objektoch atď. zadaním otáznika (?) a identifikátora objektu, napr.:"
      ]
    },
    {
      "cell_type": "code",
      "execution_count": 1,
      "metadata": {
        "id": "ggO03KIoLONm"
      },
      "outputs": [],
      "source": [
        "import numpy as np\n",
        "?np.arange"
      ]
    },
    {
      "cell_type": "markdown",
      "metadata": {
        "tags": [
          "en"
        ],
        "id": "49ts_zIONVLi"
      },
      "source": [
        "Podobne, keď zvýrazníte časť kódu a stlačíte `SHIFT+TAB`, zobrazí sa vstavná dokumentácia v plávajúcom okne. Vyskúšajte si to teraz!\n",
        "\n",
        "## Základy syntaxe Pythonu\n",
        "\n",
        "Typy premenných sa nešpecifikujú explicitne. Píšeme iba:\n",
        "\n",
        "```\n",
        "a = 7\n",
        "x = 1.5\n",
        "s = \"reťazec\"\n",
        "```\n",
        "\n",
        "Ako vidíme, príkazy sa oddeľujú pomocou znaku nového riadku. Ak chceme zadať viacero príkazov do toho istého riadku, môžeme ich oddeliť pomocou bodkočiarky, napr.:\n",
        "\n",
        "```\n",
        "a = 7; x = 1.5\n",
        "```\n",
        "\n",
        "V Pythone majú aj ostatné znaky predstavujúce prázdne miesto veľký význam. Napríklad, bloky kódu sa tvoria odsadením zdrojového kódu (v C++ sa ekvivalent dosahuje pomocou \"{}\"):\n",
        "\n",
        "```\n",
        "if x == 1 and a < 10:\n",
        "    y = 5\n",
        "elif a > 17 or x == 0:\n",
        "    y = 11\n",
        "    z = 12\n",
        "else:\n",
        "    y = 0\n",
        "```\n",
        "\n",
        "Odsadenie musí byť konzistentné (napr. vždy odsadzujete 4 medzery). Nekonzistentné odsadenie sa považuje za syntaktickú chybu, napr.:\n",
        "\n",
        "```\n",
        "if x == 1:\n",
        "    y = 5\n",
        "        z = 7   # CHYBA: Neočakávané odsadenie\n",
        "```"
      ]
    },
    {
      "cell_type": "code",
      "execution_count": 2,
      "metadata": {
        "id": "_NgCnFswLOOK",
        "colab": {
          "base_uri": "https://localhost:8080/"
        },
        "outputId": "d5574d8a-3666-4248-f664-2984d2e15701"
      },
      "outputs": [
        {
          "output_type": "stream",
          "name": "stdout",
          "text": [
            "5\n"
          ]
        }
      ],
      "source": [
        "x = 1; a = 7\n",
        "\n",
        "if x == 1 and a < 10:\n",
        "    y = 5\n",
        "elif a > 17 or x == 0:\n",
        "    y = 11\n",
        "    z = 12\n",
        "else:\n",
        "    y = 0\n",
        "\n",
        "print(y)"
      ]
    },
    {
      "cell_type": "markdown",
      "metadata": {
        "tags": [
          "en"
        ],
        "id": "Q8ril0QbNVLm"
      },
      "source": [
        "Komentáre sa v Pythone označujú znakom `#`, napr.:\n"
      ]
    },
    {
      "cell_type": "code",
      "execution_count": null,
      "metadata": {
        "tags": [
          "en"
        ],
        "id": "khyYJm7NNVLn"
      },
      "outputs": [],
      "source": [
        "# Toto je komentár.\n",
        "x = 2   # priradí hodnotu 2 premennej x"
      ]
    },
    {
      "cell_type": "markdown",
      "metadata": {
        "tags": [
          "en"
        ],
        "id": "6U4wA8fQNVLo"
      },
      "source": [
        "### Deklarácia funkcií\n",
        "\n",
        "Funkcie sa v Pythone deklarujú pomocou kľúčového slova `def`. Telo funkcie tvorí blok kódu, preto je odsadené. Návratová hodnota sa vracia pomocou vstavaného kľúčového slova `return`, podobne ako v jazykoch C/C++."
      ]
    },
    {
      "cell_type": "code",
      "execution_count": null,
      "metadata": {
        "tags": [
          "en"
        ],
        "id": "CoXBdSYGNVLp"
      },
      "outputs": [],
      "source": [
        "# Funkcia, ktorá spočíta čísla a a b:\n",
        "def plus(a, b):\n",
        "    return a + b"
      ]
    },
    {
      "cell_type": "markdown",
      "metadata": {
        "tags": [
          "en"
        ],
        "id": "I-z6YpjVNVLp"
      },
      "source": [
        "## Výpis textu\n",
        "\n",
        "### Jednoduchý výstup\n",
        "\n",
        "V Pythone je možné textový výstup vytvoriť pomocou funkcie print, napr.:\n",
        "\n"
      ]
    },
    {
      "cell_type": "code",
      "execution_count": null,
      "metadata": {
        "id": "ejGzCcehLOO4"
      },
      "outputs": [],
      "source": [
        "x = 15\n",
        "print(x)"
      ]
    },
    {
      "cell_type": "markdown",
      "metadata": {
        "tags": [
          "en"
        ],
        "id": "xpmPuJ35NVLr"
      },
      "source": [
        "Výpis funguje aj s komplexnejšími objektmi, ako sú napríklad celé polia:"
      ]
    },
    {
      "cell_type": "code",
      "execution_count": null,
      "metadata": {
        "id": "BFxGzLDdLOPG"
      },
      "outputs": [],
      "source": [
        "ar = np.array([1, 2, 3, 4])\n",
        "print(ar)"
      ]
    },
    {
      "cell_type": "markdown",
      "metadata": {
        "tags": [
          "en"
        ],
        "id": "XpMjOrWkNVLs"
      },
      "source": [
        "### Formátovaný výstup\n",
        "\n",
        "Formátovaný výstup je zaujímavejším prípadom. Je ho možné dosiahnuť pomocou vstavanej funkcie reťazca `format`:\n"
      ]
    },
    {
      "cell_type": "code",
      "execution_count": null,
      "metadata": {
        "tags": [
          "en"
        ],
        "id": "4_vWYvaYNVLt"
      },
      "outputs": [],
      "source": [
        "x = 15\n",
        "y = 20\n",
        "print(\"Vysledky su x = {}, y = {}.\".format(x, y))"
      ]
    },
    {
      "cell_type": "markdown",
      "metadata": {
        "tags": [
          "en"
        ],
        "id": "vctWBDyMNVLt"
      },
      "source": [
        "T.j. do reťazca vložíme jeden alebo viac zástupných symbolov \"`{}`\", ktoré budú nahradené zodpovedajúcimi hodnotami pri volaní funkcie `format` – v tomto prípade hodnotami premenných `x` a `y`.\n",
        "\n",
        "Ešte lepšie je, ak pridáte `f` pred reťazec (tesne pred úvodzovky), môžete priamo do zástupného symbolu vložiť akýkoľvek výraz obsahujúci lokálne premenné, napr.:"
      ]
    },
    {
      "cell_type": "code",
      "execution_count": null,
      "metadata": {
        "id": "Ug8RZlGmNVLu"
      },
      "outputs": [],
      "source": [
        "x = 15\n",
        "y = 20\n",
        "print(f\"Vysledky su x = {x}, y + 1 = {y+1}.\")"
      ]
    },
    {
      "cell_type": "markdown",
      "metadata": {
        "tags": [
          "en"
        ],
        "id": "LHjSpyMHNVLv"
      },
      "source": [
        "Podrobnejšie informácie o rôznych druhoch formátovania nájdete [príručke](https://docs.python.org/3/library/string.html#format-string-syntax) Pythonu.\n",
        "\n"
      ]
    },
    {
      "cell_type": "markdown",
      "metadata": {
        "tags": [
          "en"
        ],
        "id": "Ogrv8Rn5NVLw"
      },
      "source": [
        "## The Fundamental Data Types\n",
        "\n",
        "### Numeric Types\n",
        "\n",
        "From among the fundamental numeric datatypes we might want to mention the standard `int` for integers and `float` for real-valued numbers. As we have mentioned already, variable types are not declared explictly in Python. It is sufficient to enter a literal of the corresponding type:\n",
        "\n",
        "## Základné dátové typy\n",
        "\n",
        "### Číselné typy\n",
        "\n",
        "\n",
        "Medzi základné číselné dátové typy patria štandardné `int` pre celé čísla a `float` pre reálne čísla. Ako sme už spomenuli, typy premenných nie sú v Pythone explicitne deklarované. Stačí zadať príslušný typ:"
      ]
    },
    {
      "cell_type": "code",
      "execution_count": null,
      "metadata": {
        "id": "HzLYjXz1LOPz"
      },
      "outputs": [],
      "source": [
        "x = 5\n",
        "print(type(x))\n",
        "\n",
        "y = 5.5\n",
        "print(type(y))"
      ]
    },
    {
      "cell_type": "markdown",
      "metadata": {
        "tags": [
          "en"
        ],
        "id": "sBU3fJQMNVLx"
      },
      "source": [
        "Základné operácie s číslami:\n",
        "\n",
        "```python\n",
        "x = 5\n",
        "\n",
        "print(x)                              # výpis\n",
        "print(x + 1)                          # sčítanie\n",
        "print(x - 1)                          # odčítanie\n",
        "print(x * 2)                          # násobenie\n",
        "print(x / 2)                          # delenie (výsledkom je reálne číslo)\n",
        "print(x ** 2)                         # umocňovanie\n",
        "print(x % 2)                          # modulo (zvyšok po celočíselnom delení)\n",
        "\n",
        "x += 3                                # inkrementácia; ekvivalent x = x + 3\n",
        "print(x)\n",
        "\n",
        "x -= 3                                # dekrementácia; ekvivalent x = x - 3\n",
        "print(x)\n",
        "\n",
        "x *= 5                                # ekvivalent x = x * 5\n",
        "print(x)\n",
        "\n",
        "x /= 5                                # ekvivalent x = x / 5\n",
        "print(x)\n",
        "\n",
        "x **= 2                               # ekvivalent x = x ** 2\n",
        "print(x)\n",
        "```\n",
        "\n",
        "Python nemá operátory `x++`, `x--`, ktoré môžete poznať z iných jazykov. Namiesto nich použite:\n",
        "\n",
        "```python\n",
        "x += 1\n",
        "x -= 1\n",
        "```\n",
        "\n",
        "---\n",
        "### Úloha\n",
        "\n",
        "**Vyskúšajte si teraz niektoré z týchto operácií:**\n",
        "\n",
        "---\n",
        "\n",
        "\n"
      ]
    },
    {
      "cell_type": "markdown",
      "metadata": {
        "tags": [
          "en"
        ],
        "id": "EsZI--B5NVLy"
      },
      "source": [
        "### Bool\n",
        "\n",
        "Booleovské premenné sú označované `True` (pravda, logická 1) a `False` (nepravda, logická 0)."
      ]
    },
    {
      "cell_type": "code",
      "execution_count": null,
      "metadata": {
        "id": "komqUSO-LOQO"
      },
      "outputs": [],
      "source": [
        "t = True\n",
        "f = False\n",
        "print(type(t))"
      ]
    },
    {
      "cell_type": "markdown",
      "metadata": {
        "tags": [
          "en"
        ],
        "id": "yuMzLc2cNVLz"
      },
      "source": [
        "Logické operácie sú vyjadrené ich anglickými názvami písanými malými písmenami:\n",
        "\n"
      ]
    },
    {
      "cell_type": "code",
      "execution_count": null,
      "metadata": {
        "tags": [
          "en"
        ],
        "id": "ldK4PO1pNVLz"
      },
      "outputs": [],
      "source": [
        "t = True\n",
        "f = False\n",
        "\n",
        "print(t and f)                      # and\n",
        "print(t or f)                       # or\n",
        "print(not t)                        # negation\n",
        "print(t != f)                       # xor"
      ]
    },
    {
      "cell_type": "markdown",
      "metadata": {
        "tags": [
          "en"
        ],
        "id": "OvMZk7ltNVLz"
      },
      "source": [
        "### Reťazce (string)\n",
        "\n",
        "Reťazce sú v Pythone uzavreté buď v jednoduchých alebo v dvojitých úvodzovkách. Oba druhy zápisu sú ekvivalentné:"
      ]
    },
    {
      "cell_type": "code",
      "execution_count": null,
      "metadata": {
        "tags": [
          "en"
        ],
        "id": "wVCSxTE6NVLz"
      },
      "outputs": [],
      "source": [
        "str1 = 'string number 1'\n",
        "str2 = \"string number 2\""
      ]
    },
    {
      "cell_type": "markdown",
      "metadata": {
        "tags": [
          "en"
        ],
        "id": "jG5-QshnNVL0"
      },
      "source": [
        "Dĺžka reťazca sa dá určiť pomocou funkcie `len`:"
      ]
    },
    {
      "cell_type": "code",
      "execution_count": null,
      "metadata": {
        "tags": [
          "en"
        ],
        "id": "QmtnYntMNVL0"
      },
      "outputs": [],
      "source": [
        "str1 = 'string number 1'\n",
        "print(len(str1))"
      ]
    },
    {
      "cell_type": "markdown",
      "metadata": {
        "tags": [
          "en"
        ],
        "id": "VIj8WO0QNVL0"
      },
      "source": [
        "Reťazce sa dajú spojiť pomocou operátora `+`:"
      ]
    },
    {
      "cell_type": "code",
      "execution_count": null,
      "metadata": {
        "tags": [
          "en"
        ],
        "id": "DcAyUnWUNVL1"
      },
      "outputs": [],
      "source": [
        "str1 = 'string number 1'\n",
        "str2 = 'string number 2'\n",
        "str12 = str1 + ', ' + str2\n",
        "print(str12)"
      ]
    },
    {
      "cell_type": "markdown",
      "metadata": {
        "tags": [
          "en"
        ],
        "id": "xxnIyx2rNVL1"
      },
      "source": [
        "#### Formátovanie\n",
        "\n",
        "Vyššie spomenutý spôsob formátovania textu pomocou funkcie `.format(...)` funguje na úrovni reťazcov – dá sa použiť kdekoľvek, nielen pri vypisovaní vecí:"
      ]
    },
    {
      "cell_type": "code",
      "execution_count": null,
      "metadata": {
        "tags": [
          "en"
        ],
        "id": "2kMsPM_cNVL1"
      },
      "outputs": [],
      "source": [
        "z = \"potatoes\"\n",
        "n = 4\n",
        "str1 = \"I had {} {}.\".format(n, z)\n",
        "print(str1)"
      ]
    },
    {
      "cell_type": "markdown",
      "source": [
        "An alternative for string formatting are the f-strings introduced in Python 3.6. Instead of using the `.format()` method, you put `f` in front of quotation mark and put the expression directly between the curly brackets. We can also specify the precision: the number of decimal places of float by appending formating expression ,e.g., `:.3f` to the nubmer in curly brackets, that will format the number to 3 decimal places."
      ],
      "metadata": {
        "id": "-g_AFijUXSGy"
      }
    },
    {
      "cell_type": "code",
      "source": [
        "p = \"potato\"\n",
        "a = 200.2315123\n",
        "print(f\"An average {p} weights {a:.2f} grams\")"
      ],
      "metadata": {
        "id": "eHen5ctNX0zT"
      },
      "execution_count": null,
      "outputs": []
    },
    {
      "cell_type": "markdown",
      "metadata": {
        "tags": [
          "en"
        ],
        "id": "a2VCLdXANVL2"
      },
      "source": [
        "#### Other Operations with Strings\n",
        "\n",
        "Strings also have many other built-in functions, e.g.:\n",
        "\n"
      ]
    },
    {
      "cell_type": "code",
      "execution_count": null,
      "metadata": {
        "tags": [
          "en"
        ],
        "id": "mvBT43fbNVL2"
      },
      "outputs": [],
      "source": [
        "str1 = 'string number 1   '\n",
        "print(str1.capitalize())     # Capitalizes the first letter.\n",
        "print(str1.upper())          # Capitalizes all letters.\n",
        "str2 = '   string number 2   '\n",
        "print(str2.strip())          # Removes whitespace from the beginning\n",
        "                             # and the end of the string."
      ]
    },
    {
      "cell_type": "markdown",
      "metadata": {
        "tags": [
          "en"
        ],
        "id": "TIz8SWVgNVL2"
      },
      "source": [
        "### Comparing Values\n",
        "\n",
        "The values of two variables are compared in a way similar to many other languages (e.g. C++):\n",
        "\n"
      ]
    },
    {
      "cell_type": "code",
      "execution_count": null,
      "metadata": {
        "tags": [
          "en"
        ],
        "id": "sYkaEemWNVL3"
      },
      "outputs": [],
      "source": [
        "x = 1\n",
        "\n",
        "print(x == 1)                # equality\n",
        "print(x != 1)                # inequality\n",
        "\n",
        "str1 = 'string number 1'\n",
        "str2 = 'string number 2'\n",
        "\n",
        "print(str1 == str2)          # equality\n",
        "print(str1 != str2)          # inequality"
      ]
    },
    {
      "cell_type": "markdown",
      "source": [
        "# Tasks"
      ],
      "metadata": {
        "id": "iadat6rmxD2f"
      }
    },
    {
      "cell_type": "markdown",
      "source": [
        "1. Initialize a variable `x` and assing it a value 5.2.\n",
        "2. Then assign to `x` its value divided by 3. Next, print `x` rounded to 3 numbers with some description.\n",
        "3. Raise `x` to the power of two and print it.\n",
        "4. Assing some number between 1 to 10 to a variable `y`. Write a code chunk which:\n",
        "  * if `y` is less or equal to 5, will print the `y` together with `y` divided by 11 and rounded to 3 decimal places (e.g. \"The nubmer is less or equal than 5, and divided by 11 is 0.273\")\n",
        "  * else, it will print the number and its modulo by two, e.g., \"The number is greater than 5 and its modulo by 2 is 1\""
      ],
      "metadata": {
        "id": "jWRVgMTDxFxk"
      }
    },
    {
      "cell_type": "code",
      "source": [
        "\n"
      ],
      "metadata": {
        "id": "da4Ryu5GTTS3"
      },
      "execution_count": null,
      "outputs": []
    }
  ],
  "metadata": {
    "celltoolbar": "Tags",
    "colab": {
      "provenance": [],
      "include_colab_link": true
    },
    "kernelspec": {
      "display_name": "Python 3",
      "language": "python",
      "name": "python3"
    },
    "language_info": {
      "codemirror_mode": {
        "name": "ipython",
        "version": 3
      },
      "file_extension": ".py",
      "mimetype": "text/x-python",
      "name": "python",
      "nbconvert_exporter": "python",
      "pygments_lexer": "ipython3",
      "version": "3.8.8"
    }
  },
  "nbformat": 4,
  "nbformat_minor": 0
}