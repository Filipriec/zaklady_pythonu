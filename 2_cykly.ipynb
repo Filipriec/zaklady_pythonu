{
  "cells": [
    {
      "cell_type": "markdown",
      "metadata": {
        "id": "view-in-github",
        "colab_type": "text"
      },
      "source": [
        "<a href=\"https://colab.research.google.com/github/Filipriec/zaklady_pythonu/blob/main/2_loops.ipynb\" target=\"_parent\"><img src=\"https://colab.research.google.com/assets/colab-badge.svg\" alt=\"Open In Colab\"/></a>"
      ]
    },
    {
      "cell_type": "markdown",
      "metadata": {
        "collapsed": true,
        "id": "bR3ML8e9hlS-",
        "tags": [
          "en"
        ]
      },
      "source": [
        "## Cykly\n",
        "\n",
        "V Pythone sa neiteruje pomocou klasických numerických `for` cyklov. Vždy sa iteruje cez objekt – buď cez nejaký kontajner iných objektov (t.j. vykonávanie určitých operácií pre každý objekt) alebo cez generátor – pomocný objekt, ktorý generuje veci za behu.\n",
        "\n",
        "### Pomocný objekt typu `range`\n",
        "\n",
        "V Pythone je numerický `for` cyklus implementovaný pomocou pomocného objektu `range`; `range(a)` zodpovedá postupnosti čísel od `0` po `a` s krokom `1` (takže `a` je prvé číslo, ktoré do postupnosti nepatří), t.j.:"
      ]
    },
    {
      "cell_type": "code",
      "execution_count": 1,
      "metadata": {
        "id": "HRNACdFAhlTH",
        "tags": [
          "en"
        ],
        "colab": {
          "base_uri": "https://localhost:8080/"
        },
        "outputId": "155381d7-b9cd-4c43-9b52-aa9ce70facb4"
      },
      "outputs": [
        {
          "output_type": "stream",
          "name": "stdout",
          "text": [
            "[0, 1, 2, 3, 4, 5, 6, 7, 8, 9]\n"
          ]
        }
      ],
      "source": [
        "print(list(range(10)))  # aby sme vypísali postupnosť čísel\n",
        "                        # naraz, najprv ju zmeníme na list"
      ]
    },
    {
      "cell_type": "markdown",
      "metadata": {
        "id": "qgVASP3FhlTY",
        "tags": [
          "en"
        ]
      },
      "source": [
        "Ak by sme chceli, aby postupnosť začínala od iného počiatočného čísla, môžeme namiesto toho použiť verziu s dvoma argumentmi `range(a, b)`, napr.:"
      ]
    },
    {
      "cell_type": "code",
      "execution_count": null,
      "metadata": {
        "id": "ZdgxvcorhlTb",
        "tags": [
          "en"
        ]
      },
      "outputs": [],
      "source": [
        "print(list(range(2, 10)))     # postupnosť od 2 po 10 s krokom 1"
      ]
    },
    {
      "cell_type": "markdown",
      "metadata": {
        "id": "zYmSCVyLhlTm",
        "tags": [
          "en"
        ]
      },
      "source": [
        "Ak chceme zmeniť veľkosť kroku, existuje verzia s tromi argumentmi `range(a, b, s)`, kde `s` je veľkosť kroku:"
      ]
    },
    {
      "cell_type": "code",
      "execution_count": null,
      "metadata": {
        "id": "oh75EtkhhlTo",
        "tags": [
          "en"
        ]
      },
      "outputs": [],
      "source": [
        "print(list(range(2, 10, 3)))  # postupnosť od 2 po 10 s krokom 3"
      ]
    },
    {
      "cell_type": "markdown",
      "metadata": {
        "id": "VPDJtcurhlTx",
        "tags": [
          "en"
        ]
      },
      "source": [
        "### Cyklus `for`\n",
        "\n",
        "Ak teraz chceme implementovať cyklus `for`, ktorý bude iterovať od 0 po 10 s veľkosťou kroku 1, môžeme tak urobiť pomocou pomocného objektu `range`. Vieme, že na získanie objektu `range` s takými parametrami jednoducho potrebujeme zavolať `range(10)`. Cyklus `for` potom bude vyzerať nasledovne:"
      ]
    },
    {
      "cell_type": "code",
      "execution_count": null,
      "metadata": {
        "id": "jgBOyaJyhlTz",
        "tags": [
          "en"
        ]
      },
      "outputs": [],
      "source": [
        "for i in range(10):   # pre každé i v range(10), vypíše i\n",
        "    print(i)"
      ]
    },
    {
      "cell_type": "markdown",
      "metadata": {
        "id": "9kVsCsqahlT8",
        "tags": [
          "en"
        ]
      },
      "source": [
        "#### Paralelná Iterácia\n",
        "\n",
        "V Pythone je možné iterovať cez dva objekty paralelne – pomocou funkcie `zip`:"
      ]
    },
    {
      "cell_type": "code",
      "execution_count": null,
      "metadata": {
        "id": "lXnCbF59hlT_"
      },
      "outputs": [],
      "source": [
        "for i, j in zip(range(0, 5), range(5, 10)):\n",
        "    print(i, j)"
      ]
    },
    {
      "cell_type": "markdown",
      "metadata": {
        "id": "5Yf2wtdQhlUS",
        "tags": [
          "en"
        ]
      },
      "source": [
        "### Cyklus `while`\n",
        "\n",
        "Rovnako ako iné jazyky, Python má okrem cyklu `for` aj cyklus `while`. Cyklus `while` iteruje, kým je splnená určitá podmienka:\n"
      ]
    },
    {
      "cell_type": "code",
      "execution_count": null,
      "metadata": {
        "id": "Yi5uLHfwhlUc"
      },
      "outputs": [],
      "source": [
        "c = 2\n",
        "while c < 100:\n",
        "    c **= 2\n",
        "    print(c)"
      ]
    },
    {
      "cell_type": "markdown",
      "source": [
        "# Úlohy\n",
        "\n",
        "Úlohy\n",
        "\n",
        "\n",
        "\n",
        "\n",
        "\n",
        "\n",
        "\n",
        "1. Vypíšte postupnosť kladných nepárnych čísel menších ako 10 pomocou funkcie ```range()```.\n",
        "2. Vypíšte párne čísla od 1 do 20 pomocou cyklu a ```range()```.\n",
        "3. Vypíšte páry párnych a nepárnych čísel od 2 do 15 pomocou jediného cyklu for a funkcie ```zip()```. Naformátujte každý pár ako: Párne je 2, nepárne je 3"
      ],
      "metadata": {
        "id": "te8RaqqPTWwQ"
      }
    },
    {
      "cell_type": "code",
      "source": [],
      "metadata": {
        "id": "hBOX_d8KUZB_"
      },
      "execution_count": null,
      "outputs": []
    }
  ],
  "metadata": {
    "celltoolbar": "Tags",
    "colab": {
      "provenance": [],
      "include_colab_link": true
    },
    "kernelspec": {
      "display_name": "Python 3",
      "language": "python",
      "name": "python3"
    },
    "language_info": {
      "codemirror_mode": {
        "name": "ipython",
        "version": 3
      },
      "file_extension": ".py",
      "mimetype": "text/x-python",
      "name": "python",
      "nbconvert_exporter": "python",
      "pygments_lexer": "ipython3",
      "version": "3.7.5"
    }
  },
  "nbformat": 4,
  "nbformat_minor": 0
}