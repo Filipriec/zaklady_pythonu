{
  "nbformat": 4,
  "nbformat_minor": 0,
  "metadata": {
    "colab": {
      "provenance": [],
      "authorship_tag": "ABX9TyNElC33WHe/DC08k+m0KDOF",
      "include_colab_link": true
    },
    "kernelspec": {
      "name": "python3",
      "display_name": "Python 3"
    },
    "language_info": {
      "name": "python"
    }
  },
  "cells": [
    {
      "cell_type": "markdown",
      "metadata": {
        "id": "view-in-github",
        "colab_type": "text"
      },
      "source": [
        "<a href=\"https://colab.research.google.com/github/Filipriec/zaklady_pythonu/blob/main/6_statistika.ipynb\" target=\"_parent\"><img src=\"https://colab.research.google.com/assets/colab-badge.svg\" alt=\"Open In Colab\"/></a>"
      ]
    },
    {
      "cell_type": "markdown",
      "source": [
        "# Štatistika\n",
        "\n",
        "https://code.farmeris.sk/python/hod2_statistika Podla poznámok je treba vyriešiť cieľ zadania:\n",
        "\n",
        "**Zistiť, ako teplota ovplyvňuje dojazd elektromobilu pomocou lineárnej regresie, štandardnej chyby a intervalov spoľahlivosti.**"
      ],
      "metadata": {
        "id": "b8ca6oLDik99"
      }
    },
    {
      "cell_type": "code",
      "source": [
        "import numpy as np\n",
        "import math\n",
        "from scipy import stats"
      ],
      "metadata": {
        "id": "nJYjpEH_ndDp"
      },
      "execution_count": 9,
      "outputs": []
    },
    {
      "cell_type": "code",
      "execution_count": 10,
      "metadata": {
        "colab": {
          "base_uri": "https://localhost:8080/"
        },
        "id": "WMLPIXZkie_V",
        "outputId": "ca924fb7-4ede-40ab-b6b1-127b3622f5d7"
      },
      "outputs": [
        {
          "output_type": "stream",
          "name": "stdout",
          "text": [
            "Počet teplôt: 5\n",
            "Počet meraní na teplotu: 4\n"
          ]
        }
      ],
      "source": [
        "# Teploty (v °C)\n",
        "#x = # Os x ma obsahovat hodnoty teplôt [0, 10, 20, 30, 40]\n",
        "x = np.array([0, 10, 20, 30, 40])\n",
        "#y_data = # Dojazdy (štvorica meraní pre každú teplotu)\n",
        "#450, 446, 455, 442\n",
        "#429, 423, 432, 420\n",
        "#404, 399, 392, 405\n",
        "#377, 371, 369, 382\n",
        "#351, 348, 355, 344\n",
        "y_data = np.array([\n",
        "    [450, 446, 455, 442],\n",
        "    [429, 423, 432, 420],\n",
        "    [404, 399, 392, 405],\n",
        "    [377, 371, 369, 382],\n",
        "    [351, 348, 355, 344]\n",
        "])\n",
        "\n",
        "# Kontrola tvaru poľa\n",
        "print(\"Počet teplôt:\", len(x))\n",
        "print(\"Počet meraní na teplotu:\", len(y_data[0]))"
      ]
    },
    {
      "cell_type": "markdown",
      "source": [
        "## Priemer\n",
        "\n",
        "$$\n",
        "\\bar{R}_t = \\frac{1}{n} \\sum R_{ti}\n",
        "$$\n",
        "\n",
        "Vytvoríme vlastnú funkciu, ktorá vypočíta priemer čísel zo zoznamu.  \n",
        "Potom ju použijeme na každú skupinu meraní."
      ],
      "metadata": {
        "id": "RYg8hSUaov8b"
      }
    },
    {
      "cell_type": "code",
      "source": [
        "$#def priemer(vstup):\n",
        "  # telo funkcie\n",
        "#  return # nieco\n",
        "\n",
        "def priemer(zoznam):\n",
        "    sucet = 0\n",
        "    for cislo in zoznam:\n",
        "        sucet += cislo\n",
        "    return sucet / len(zoznam)\n",
        "\n",
        "y_mean = []\n",
        "for merania in y_data:\n",
        "    y_mean.append(priemer(merania))\n",
        "y_mean = np.array(y_mean)\n",
        "\n",
        "print(\"Priemerné hodnoty:\", y_mean)"
      ],
      "metadata": {
        "colab": {
          "base_uri": "https://localhost:8080/"
        },
        "id": "sVWKOlhHnxum",
        "outputId": "ab57b797-a45e-412d-cd8b-ebd3b2f57b00"
      },
      "execution_count": 11,
      "outputs": [
        {
          "output_type": "stream",
          "name": "stdout",
          "text": [
            "Priemerné hodnoty: [448.25 426.   400.   374.75 349.5 ]\n"
          ]
        }
      ]
    },
    {
      "cell_type": "markdown",
      "source": [
        "## Smerodajná odchýlka\n",
        "\n",
        "$$\n",
        "s_t = \\sqrt{\\frac{1}{n-1} \\sum (R_{ti} - \\bar{R}_t)^2}\n",
        "$$\n",
        "\n",
        "Vyjadruje, ako veľmi sa jednotlivé merania líšia od priemeru."
      ],
      "metadata": {
        "id": "VawT7pKvpbVY"
      }
    },
    {
      "cell_type": "code",
      "source": [
        "def smerodajna_odchylka(zoznam):\n",
        "    p = priemer(zoznam)\n",
        "    sucet = 0\n",
        "    for cislo in zoznam:\n",
        "        sucet += (cislo - p) ** 2\n",
        "    return math.sqrt(sucet / (len(zoznam) - 1))\n",
        "\n",
        "y_std = []\n",
        "for merania in y_data:\n",
        "    y_std.append(smerodajna_odchylka(merania))\n",
        "y_std = np.array(y_std)\n",
        "\n",
        "print(\"Smerodajné odchýlky:\", y_std)"
      ],
      "metadata": {
        "colab": {
          "base_uri": "https://localhost:8080/"
        },
        "id": "WqV71wzVpgV-",
        "outputId": "05abca93-131f-4288-cb31-c70865739479"
      },
      "execution_count": 15,
      "outputs": [
        {
          "output_type": "stream",
          "name": "stdout",
          "text": [
            "Smerodajné odchýlky: [5.56027577 5.47722558 5.94418483 5.90903263 4.65474668]\n"
          ]
        }
      ]
    },
    {
      "cell_type": "markdown",
      "source": [
        "## Štandardná chyba\n",
        "\n",
        "$$\n",
        "SE_t = \\frac{s_t}{\\sqrt{n}}\n",
        "$$\n",
        "\n",
        "Pomáha odhadnúť presnosť priemeru."
      ],
      "metadata": {
        "id": "8DIIohHBpp82"
      }
    },
    {
      "cell_type": "code",
      "source": [
        "def standardna_chyba(s, n):\n",
        "    return s / math.sqrt(n)\n",
        "\n",
        "n = y_data.shape[1]\n",
        "y_se = [standardna_chyba(s, n) for s in y_std]\n",
        "y_se = np.array(y_se)\n",
        "\n",
        "print(\"Štandardná chyba:\", y_se)"
      ],
      "metadata": {
        "colab": {
          "base_uri": "https://localhost:8080/"
        },
        "id": "cICGH6tOptM_",
        "outputId": "350f6b9a-d8d3-4f50-bda7-536bd2081ad0"
      },
      "execution_count": 20,
      "outputs": [
        {
          "output_type": "stream",
          "name": "stdout",
          "text": [
            "Štandardná chyba: [2.78013789 2.73861279 2.97209242 2.95451632 2.32737334]\n"
          ]
        }
      ]
    },
    {
      "cell_type": "markdown",
      "source": [
        "## 95 % Interval spoľahlivosti\n",
        "\n",
        "$$\n",
        "CI_t = t_{\\alpha/2,n-1}\\cdot SE_t\n",
        "$$\n",
        "\n",
        "Udáva, v akom rozpätí by sa mohol nachádzať „pravý“ priemer.  \n",
        "Použijeme hodnotu *t* z t‑rozdelenia pre \\\\(n = 4\\\\) merania."
      ],
      "metadata": {
        "id": "NaTrxz2ipvgX"
      }
    },
    {
      "cell_type": "code",
      "source": [
        "alpha = 0.05\n",
        "t_val = stats.t.ppf(1 - alpha / 2, n - 1)\n",
        "y_ci = [t_val * se for se in y_se]\n",
        "y_ci = np.array(y_ci)\n",
        "\n",
        "print(\"95 % intervaly spoľahlivosti:\", y_ci)"
      ],
      "metadata": {
        "colab": {
          "base_uri": "https://localhost:8080/"
        },
        "id": "ipcded1zp99t",
        "outputId": "813fb58f-f9d1-48d6-8c76-dfa9482eacfd"
      },
      "execution_count": 18,
      "outputs": [
        {
          "output_type": "stream",
          "name": "stdout",
          "text": [
            "95 % intervaly spoľahlivosti: [8.84763954 8.71548815 9.45852453 9.40258954 7.40674069]\n"
          ]
        }
      ]
    },
    {
      "cell_type": "markdown",
      "source": [
        "## Lineárna regresia\n",
        "\n",
        "Pomocou metódy *najmenších štvorcov* určíme priamku, ktorá najlepšie vystihuje závislosť medzi teplotou a dojazdom:\n",
        "$$\n",
        "\\hat{R} = a + bT\n",
        "$$"
      ],
      "metadata": {
        "id": "r_ChRM8_qGpa"
      }
    },
    {
      "cell_type": "code",
      "source": [
        "slope, intercept, r_value, p_value, std_err = stats.linregress(x, y_mean)\n",
        "\n",
        "print(f\"y = {intercept:.2f} + {slope:.2f}x\")\n",
        "print(f\"R² = {r_value**2:.4f}\")"
      ],
      "metadata": {
        "colab": {
          "base_uri": "https://localhost:8080/"
        },
        "id": "7W6njqC5nZZ6",
        "outputId": "31096f75-265f-4278-cc36-c93fc98556a2"
      },
      "execution_count": 19,
      "outputs": [
        {
          "output_type": "stream",
          "name": "stdout",
          "text": [
            "y = 449.45 + -2.49x\n",
            "R² = 0.9994\n"
          ]
        }
      ]
    },
    {
      "cell_type": "markdown",
      "source": [
        "## Predikcia dojazdu pri 13,5 °C"
      ],
      "metadata": {
        "id": "9zJOizEWsfDX"
      }
    },
    {
      "cell_type": "code",
      "source": [
        "x_pred = 13.5\n",
        "y_pred = intercept + slope * x_pred\n",
        "print(f\"Odhadovaný dojazd pri {x_pred}°C: {y_pred:.2f} km\")"
      ],
      "metadata": {
        "colab": {
          "base_uri": "https://localhost:8080/"
        },
        "id": "HrMg4xGgsgh1",
        "outputId": "e7d2859e-cc78-4237-b96a-495db868231d"
      },
      "execution_count": 21,
      "outputs": [
        {
          "output_type": "stream",
          "name": "stdout",
          "text": [
            "Odhadovaný dojazd pri 13.5°C: 415.87 km\n"
          ]
        }
      ]
    },
    {
      "cell_type": "markdown",
      "source": [
        "## Grafické znázornenie\n",
        "\n",
        "Zobrazíme:\n",
        "- modré body = priemery z meraní  \n",
        "- červenú priamku = lineárnu regresiu  \n",
        "- zelený bod = predpoveď pri 13,5 °C  \n",
        "- chybové úsečky = interval spoľahlivosti"
      ],
      "metadata": {
        "id": "ciZeSRKgsrCR"
      }
    },
    {
      "cell_type": "code",
      "source": [
        "import matplotlib.pyplot as plt\n",
        "x_line = np.linspace(0, 40, 100)\n",
        "y_line = intercept + slope * x_line\n",
        "plt.errorbar(\n",
        "    x,\n",
        "    y_mean,\n",
        "    yerr=y_ci,             # 95% confidence intervals\n",
        "    fmt=\"o\",\n",
        "    color=\"blue\",\n",
        "    ecolor=\"gray\",\n",
        "    elinewidth=2,\n",
        "    capsize=4,\n",
        "    label=\"Priemerné merania (95% CI)\"\n",
        ")\n",
        "plt.plot(x_line, y_line, color=\"red\", label=\"Lineárna regresia\")\n",
        "\n",
        "plt.axvline(x_pred, color=\"green\", linestyle=\"--\", alpha=0.7)\n",
        "plt.scatter(x_pred, y_pred, color=\"green\", s=80, label=f\"Predikcia pri {x_pred} °C\")\n",
        "plt.xlabel(\"Teplota (°C)\")\n",
        "plt.ylabel(\"Dojazd (km)\")\n",
        "plt.title(\"Vplyv teploty na dojazd elektromobilu\")\n",
        "plt.legend()\n",
        "plt.grid(True)\n",
        "plt.show()"
      ],
      "metadata": {
        "colab": {
          "base_uri": "https://localhost:8080/",
          "height": 472
        },
        "id": "8_ILsgOYsx2H",
        "outputId": "9c325c47-e245-4cd7-d563-0123baf8d2ac"
      },
      "execution_count": 28,
      "outputs": [
        {
          "output_type": "display_data",
          "data": {
            "text/plain": [
              "<Figure size 640x480 with 1 Axes>"
            ],
            "image/png": "[encoded data removed]"
          },
          "metadata": {}
        }
      ]
    }
  ]
}