{
  "cells": [
    {
      "cell_type": "markdown",
      "metadata": {
        "id": "view-in-github",
        "colab_type": "text"
      },
      "source": [
        "<a href=\"https://colab.research.google.com/github/Filipriec/zaklady_pythonu/blob/main/4_zoznamy.ipynb\" target=\"_parent\"><img src=\"https://colab.research.google.com/assets/colab-badge.svg\" alt=\"Open In Colab\"/></a>"
      ]
    },
    {
      "cell_type": "markdown",
      "metadata": {
        "collapsed": true,
        "id": "PSax9XbQh7aE",
        "tags": [
          "en"
        ]
      },
      "source": [
        "## Zoznamy(list)\n",
        "\n",
        "Teraz predstavíme najzákladnejší typ vstavaného kontajnera, ktorý je dostupný v Pythone: zoznam. Zoznam môže byť chápaný ako voľná analógia polí a vektorov z C++. Zoznam môže byť vytvorený jednoducho vymenovaním jeho prvkov uzavretých v hranatých zátvorkách a oddelených čiarkami, napr.:"
      ]
    },
    {
      "cell_type": "code",
      "execution_count": null,
      "metadata": {
        "id": "XAhWFhiVh7aX"
      },
      "outputs": [],
      "source": [
        "A = [1, 2, 3, 4, 5]\n",
        "print(A)"
      ]
    },
    {
      "cell_type": "markdown",
      "metadata": {
        "id": "tT6QxP35h7bB",
        "tags": [
          "en"
        ]
      },
      "source": [
        "Ako vidíme, zoznamy môžu byť vypísané rovnako ako všetky klasické premenné – priamo pomocou funkcie `print`.\n",
        "\n",
        "Zoznam môže obsahovať ľubovoľné prvky – dokonca vrátane iných zoznamov:"
      ]
    },
    {
      "cell_type": "code",
      "execution_count": null,
      "metadata": {
        "id": "wwoHvZs5h7bL"
      },
      "outputs": [],
      "source": [
        "B = [[3, 3, 3, 4], [1, 2], [7, 7, 7]]\n",
        "print(B)"
      ]
    },
    {
      "cell_type": "markdown",
      "source": [
        "Zoznam môže byť vytvorený z postupnosti `range`:"
      ],
      "metadata": {
        "id": "m-ltKmFeDiqJ"
      }
    },
    {
      "cell_type": "code",
      "source": [
        "list(range(1,20,3))"
      ],
      "metadata": {
        "id": "u0MXnQVoDqlB"
      },
      "execution_count": null,
      "outputs": []
    },
    {
      "cell_type": "markdown",
      "metadata": {
        "id": "SX6Nwh2Rh7bo",
        "tags": [
          "en"
        ]
      },
      "source": [
        "### Indexovanie\n",
        "\n",
        "Prvky zoznamu sa indexujú pomocou hranatých zátvoriek. Indexy začínajú od 0:"
      ]
    },
    {
      "cell_type": "code",
      "execution_count": null,
      "metadata": {
        "id": "dl0cVLhth7bz"
      },
      "outputs": [],
      "source": [
        "A = [1, 2, 3, 4, 5]\n",
        "print(A[2])"
      ]
    },
    {
      "cell_type": "markdown",
      "metadata": {
        "id": "uWpJoRIYh7cM",
        "tags": [
          "en"
        ]
      },
      "source": [
        "Segmenty zoznamu môžu byť tiež indexované – v tom prípade sa zadá prvý prvok segmentu, dvojbodka a koniec segmentu (číslo *o-jeden-za-posledným* prvkom, vlastne – toto je podobné ako C++ iterátory: umožňuje nám to reprezentovať aj prázdne rozsahy):"
      ]
    },
    {
      "cell_type": "code",
      "execution_count": null,
      "metadata": {
        "id": "GgF3MB3hh7cW"
      },
      "outputs": [],
      "source": [
        "A = [1, 2, 3, 4, 5]\n",
        "print(A[1:4])"
      ]
    },
    {
      "cell_type": "markdown",
      "metadata": {
        "id": "Zre-AZW7h7c5",
        "tags": [
          "en"
        ]
      },
      "source": [
        "Ďalšou užitočnou vlastnosťou zoznamov je, že sa dajú indexovať od konca – to sa robí pomocou záporných indexov. Index `-1` znamená posledný prvok, `-2` predposledný atď. Napr.:"
      ]
    },
    {
      "cell_type": "code",
      "execution_count": null,
      "metadata": {
        "id": "nEFx3hNDh7dE"
      },
      "outputs": [],
      "source": [
        "A = [1, 2, 3, 4, 5]\n",
        "\n",
        "print(\"A = {}\\n\".format(A))\n",
        "print(\"A[-1] = {}\\n\".format(A[-1]))\n",
        "print(\"A[-2] = {}\\n\".format(A[-2]))\n",
        "print(\"A[2:-1] = {}\\n\".format(A[2:-1]))"
      ]
    },
    {
      "cell_type": "markdown",
      "source": [
        "#### Slicing\n",
        "V Pythone je [slicing](https://www.geeksforgeeks.org/python-list-slicing/) zoznamov bežnou praxou a je to najpoužívanejšia technika, ktorú programátori používajú na riešenie efektívnych problémov.\n",
        "\n",
        "Syntax:\n",
        "```\n",
        "Lst[ Initial : End : IndexJump ]\n",
        "```\n",
        "Ak je *Lst* zoznam, potom vyššie uvedený výraz vráti časť zoznamu od indexu *Initial* po index *End*, s veľkosťou kroku *IndexJump*."
      ],
      "metadata": {
        "id": "u_6Z7bzujO8h"
      }
    },
    {
      "cell_type": "code",
      "source": [
        "# Initialize list\n",
        "list_to_slice = list(range(1,10))\n",
        "\n",
        "# Show original list\n",
        "print(\"\\nOriginal List:\\n\", list_to_slice)\n",
        "\n",
        "print(\"\\nSliced Lists: \")\n",
        "\n",
        "# Every second element from 3rd to 9th index\n",
        "print(list_to_slice[3:9:2])\n",
        "\n",
        "# Elements at odd indices\n",
        "print(list_to_slice[::2])\n",
        "\n",
        "# Original list\n",
        "print(list_to_slice[::])"
      ],
      "metadata": {
        "id": "bHtWG8cgkS28"
      },
      "execution_count": null,
      "outputs": []
    },
    {
      "cell_type": "markdown",
      "source": [
        "Samozrejme, môžete tiež použiť záporné indexy pri slicingu. Na obrátenie zoznamu pomocou slicingu jednoducho použite `[::-1]`."
      ],
      "metadata": {
        "id": "UijJgDtalCYR"
      }
    },
    {
      "cell_type": "code",
      "source": [
        "list_to_slice[::-1]"
      ],
      "metadata": {
        "id": "6P9hRdVWl9ga"
      },
      "execution_count": null,
      "outputs": []
    },
    {
      "cell_type": "markdown",
      "metadata": {
        "id": "5b4vFd07h7dk",
        "tags": [
          "en"
        ]
      },
      "source": [
        "### Dĺžka Zoznamu\n",
        "\n",
        "Dĺžka zoznamu sa dá – rovnako ako pri reťazcoch – určiť pomocou funkcie `len`:"
      ]
    },
    {
      "cell_type": "code",
      "execution_count": null,
      "metadata": {
        "id": "yJhFuNn_h7ds"
      },
      "outputs": [],
      "source": [
        "A = [1, 2, 3, 4, 5]\n",
        "print(len(A))"
      ]
    },
    {
      "cell_type": "markdown",
      "metadata": {
        "id": "mpDNNxBWh7eC",
        "tags": [
          "en"
        ]
      },
      "source": [
        "### Iterácia cez Zoznamy\n",
        "\n",
        "Štandardná syntax cyklu `for` sa dá použiť na iteráciu cez zoznamy:\n"
      ]
    },
    {
      "cell_type": "code",
      "execution_count": null,
      "metadata": {
        "id": "RfPyFaMPh7eG",
        "tags": [
          "en"
        ]
      },
      "outputs": [],
      "source": [
        "A = [1, 2, 3, 4, 5]\n",
        "\n",
        "for x in A:                         # pre každý prvok x v zozname A\n",
        "    print(\"Element {}\".format(x))   # vypíše: Element x\n"
      ]
    },
    {
      "cell_type": "markdown",
      "metadata": {
        "id": "R-9F1CvNh7eQ",
        "tags": [
          "en"
        ]
      },
      "source": [
        "Ak počas iterácie potrebujeme vedieť index prvku, môžeme použiť `enumerate`:"
      ]
    },
    {
      "cell_type": "code",
      "execution_count": null,
      "metadata": {
        "id": "cCKSq2gPh7eU"
      },
      "outputs": [],
      "source": [
        "A = [1, 2, 3, 4, 5]\n",
        "\n",
        "for i, x in enumerate(A):\n",
        "    print(\"Element {} = {}\".format(i, x))"
      ]
    },
    {
      "cell_type": "markdown",
      "metadata": {
        "id": "37Lvt-Fih7ee",
        "tags": [
          "en"
        ]
      },
      "source": [
        "Podobne, ak chceme iterovať cez dva zoznamy paralelne, môžeme opäť použiť `zip`:"
      ]
    },
    {
      "cell_type": "code",
      "execution_count": null,
      "metadata": {
        "id": "LiIzeUzth7eg"
      },
      "outputs": [],
      "source": [
        "A = [1, 2, 3, 4, 5]\n",
        "B = ['a', 'b', 'c', 'd', 'e']\n",
        "\n",
        "for a, b in zip(A, B):\n",
        "    print(a, b)"
      ]
    },
    {
      "cell_type": "markdown",
      "metadata": {
        "id": "EUA1RiIzh7eo",
        "tags": [
          "en"
        ]
      },
      "source": [
        "Obe funkcie môžu byť aj kombinované:"
      ]
    },
    {
      "cell_type": "code",
      "execution_count": null,
      "metadata": {
        "id": "58A97sESh7ep"
      },
      "outputs": [],
      "source": [
        "A = [1, 2, 3, 4, 5]\n",
        "B = ['a', 'b', 'c', 'd', 'e']\n",
        "\n",
        "for i, (a, b) in enumerate(zip(A, B)):\n",
        "    print(i, a, b)"
      ]
    },
    {
      "cell_type": "markdown",
      "metadata": {
        "id": "wAqrzSS3h7ew",
        "tags": [
          "en"
        ]
      },
      "source": [
        "Podobná pomocná funkcia existuje pre iteráciu v opačnom poradí – t.j. od posledného prvku po prvý. Volá sa `reversed` a môže byť použitá nasledovne:"
      ]
    },
    {
      "cell_type": "code",
      "execution_count": null,
      "metadata": {
        "id": "3CjnPuVyh7ex"
      },
      "outputs": [],
      "source": [
        "A = [1, 2, 3, 4, 5]\n",
        "\n",
        "for a in reversed(A):\n",
        "    print(a)"
      ]
    },
    {
      "cell_type": "markdown",
      "metadata": {
        "id": "jHJ-1HtNh7e6",
        "tags": [
          "en"
        ]
      },
      "source": [
        "### Operátor `+`\n",
        "\n",
        "Zoznamy môžu byť spojené pomocou operátora `+`:"
      ]
    },
    {
      "cell_type": "code",
      "execution_count": null,
      "metadata": {
        "id": "QHdnnU_Eh7e8"
      },
      "outputs": [],
      "source": [
        "A = [1, 2, 3, 4, 5]\n",
        "B = [6, 7, 8, 9, 10]\n",
        "\n",
        "C = A + B\n",
        "\n",
        "print(C)"
      ]
    },
    {
      "cell_type": "markdown",
      "metadata": {
        "id": "IB4fnkwuh7fB",
        "tags": [
          "en"
        ]
      },
      "source": [
        "### Prázdny Zoznam\n",
        "\n",
        "Je tiež možné vytvoriť prázdny zoznam:"
      ]
    },
    {
      "cell_type": "code",
      "execution_count": null,
      "metadata": {
        "id": "Ibpy7arWh7fE"
      },
      "outputs": [],
      "source": [
        "A = []\n",
        "print(A)\n",
        "\n",
        "A2 = list()\n",
        "print(A2)"
      ]
    },
    {
      "cell_type": "markdown",
      "metadata": {
        "id": "6ifQpd9-h7fM",
        "tags": [
          "en"
        ]
      },
      "source": [
        "### Pridávanie Nových Prvkov\n",
        "\n",
        "Nové prvky môžu byť pridané na koniec zoznamu pomocou funkcie `append`:"
      ]
    },
    {
      "cell_type": "code",
      "execution_count": null,
      "metadata": {
        "id": "gH9Uvl4wh7fN"
      },
      "outputs": [],
      "source": [
        "A = []\n",
        "A.append(1)\n",
        "A.append(2)\n",
        "\n",
        "print(A)"
      ]
    },
    {
      "cell_type": "markdown",
      "metadata": {
        "id": "BYH5LPClh7fW",
        "tags": [
          "en"
        ]
      },
      "source": [
        "Ak chceme pridať viacero prvkov naraz, môžeme použiť funkciu `extend`:"
      ]
    },
    {
      "cell_type": "code",
      "execution_count": null,
      "metadata": {
        "id": "qoSzDU6Ch7fZ"
      },
      "outputs": [],
      "source": [
        "A = [1, 2]\n",
        "A.extend([3, 4, 5])\n",
        "\n",
        "print(A)"
      ]
    },
    {
      "cell_type": "markdown",
      "metadata": {
        "id": "j_lRpm-zh7fh",
        "tags": [
          "en"
        ]
      },
      "source": [
        "Ak by sme použili funkciu `append`, celý zoznam by bol pridaný ako jediný prvok:"
      ]
    },
    {
      "cell_type": "code",
      "execution_count": null,
      "metadata": {
        "id": "ExyWwZn0h7fj"
      },
      "outputs": [],
      "source": [
        "A = [1, 2]\n",
        "A.append([3, 4, 5])\n",
        "\n",
        "print(A)"
      ]
    },
    {
      "cell_type": "markdown",
      "metadata": {
        "id": "YbJ6rKdEh7fr",
        "tags": [
          "en"
        ]
      },
      "source": [
        "Prvky môžu byť vložené do stredu zoznamu. Použijeme funkciu `insert` – jej prvý argument je pozícia pred ktorú má byť nový prvok vložený:"
      ]
    },
    {
      "cell_type": "code",
      "execution_count": null,
      "metadata": {
        "id": "kT3pkmwAh7ft"
      },
      "outputs": [],
      "source": [
        "A = [1, 2, 3]\n",
        "A.insert(2, 11)\n",
        "\n",
        "print(A)"
      ]
    },
    {
      "cell_type": "markdown",
      "metadata": {
        "id": "3taLvnJyh7f8",
        "tags": [
          "en"
        ]
      },
      "source": [
        "### Mazanie Prvkov\n",
        "\n",
        "Prvky môžu byť z zoznamu vymazané pomocou kľúčového slova `del`. Je potrebné ich len najprv štandardne indexovať:"
      ]
    },
    {
      "cell_type": "code",
      "execution_count": null,
      "metadata": {
        "id": "GliXnK2Ph7f_"
      },
      "outputs": [],
      "source": [
        "A = [1, 2, 3]\n",
        "del A[1]\n",
        "\n",
        "print(A)"
      ]
    },
    {
      "cell_type": "markdown",
      "metadata": {
        "collapsed": true,
        "id": "8alBXVY2h7gG",
        "tags": [
          "en"
        ]
      },
      "source": [
        "### List Comprehensions\n",
        "\n",
        "Zoznamy môžu byť tiež vytvorené pomocou jednoriadkových príkazov nazývaných *list comprehensions* :"
      ]
    },
    {
      "cell_type": "code",
      "execution_count": null,
      "metadata": {
        "id": "iLZ06hY2h7gH",
        "tags": [
          "en"
        ]
      },
      "outputs": [],
      "source": [
        "# Pre každé i v [0, 10) bude do zoznamu pridané i na druhú:\n",
        "L = [x**2 for x in range(10)]\n",
        "print(L)"
      ]
    },
    {
      "cell_type": "markdown",
      "source": [
        "Nižšie je príklad **nesprávneho** spôsobu odstraňovania prvkov zo zoznamu počas iterácie cez neho. Odstránenie prvku posunie následné položky doľava, zatiaľ čo vnútorný index cyklu stále postupuje vpred, takže cyklus môže preskočiť prvky, ktoré nasledujú po odstránenom prvku."
      ],
      "metadata": {
        "id": "1tIRH6vq5wui"
      }
    },
    {
      "cell_type": "code",
      "source": [
        "L = [1, 2, 2, 3]\n",
        "for x in L:\n",
        "    if x % 2 == 0:\n",
        "        L.remove(x)\n",
        "print(L)  # neočakávaný výsledok"
      ],
      "metadata": {
        "id": "ifIXHJ-g5uJA"
      },
      "execution_count": null,
      "outputs": []
    },
    {
      "cell_type": "markdown",
      "source": [
        "Príklad správneho spôsobu, ako to urobiť, je použiť zápis zoznamu (list comprehension).\n"
      ],
      "metadata": {
        "id": "cY268rUk6H_n"
      }
    },
    {
      "cell_type": "code",
      "source": [
        "L = [1,2,2,3]\n",
        "L = [x for x in L if x % 2 != 0]\n",
        "print(L)"
      ],
      "metadata": {
        "id": "4WrPw4ci6IT_"
      },
      "execution_count": null,
      "outputs": []
    },
    {
      "cell_type": "markdown",
      "source": [
        "### Reťazce ako zoznam znakov\n",
        "\n",
        "Python reťazec môže byť ľahko premenený na zoznam znakov"
      ],
      "metadata": {
        "id": "2FxIvigi0p3Q"
      }
    },
    {
      "cell_type": "code",
      "source": [
        "word = \"python\"\n",
        "[*word]"
      ],
      "metadata": {
        "id": "TRDO5duf0qmc"
      },
      "execution_count": null,
      "outputs": []
    },
    {
      "cell_type": "markdown",
      "source": [
        "Ku každému znaku v reťazci môžeme pristupovať pomocou indexu rovnakým spôsobom ako pri prístupe k prvkom v zozname."
      ],
      "metadata": {
        "id": "mpWmN92_0sy4"
      }
    },
    {
      "cell_type": "code",
      "source": [
        "word[1]"
      ],
      "metadata": {
        "id": "P3Nm55z90uiK"
      },
      "execution_count": null,
      "outputs": []
    },
    {
      "cell_type": "markdown",
      "source": [
        "# Úlohy\n",
        "\n",
        "1. Napíšte cyklus `for`, ktorý iteruje cez zoznam obsahujúci čísla od -5 po 5 a vypíše každé číslo podľa nasledujúcich pravidiel:\n",
        "   * vypíšte číslo, ak je záporné\n",
        "   * vypíšte `\"zero\"`, ak je nula\n",
        "   * vypíšte číslo s prefixom `\"+\"`, ak je kladné\n",
        "\n",
        "2. Pomocou list comprehension transformujte rozsah čísel od 1 po 10 na zoznam zreťazených písmen a čísel. Prvé tri prvky zoznamu by mali vyzerať ako `[\"a1\", \"b2\", \"c3\"]`. Na získanie písmena `'a'` z celého čísla môžete použiť `chr(97)`.\n",
        "\n",
        "3. Napíšte časť Python kódu, ktorá nájde spoločné položky v dvoch zoznamoch.\n",
        "\n",
        "4. Obráťte zoznam čísel od 1 po 10, potom pridajte `0` na koniec zoznamu. **Nepoužívajte** metódu `reverse()`.\n",
        "\n",
        "5. Dve slová sú \"obrátený pár\", ak je každé opačné k druhému. Napíšte program, ktorý nájde všetky obrátené páry v zozname slov. Nezabudnite, že reťazec v Pythone môže byť spracovaný ako zoznam znakov; na obrátenie slova môžete použiť slice notáciu `[::-1]`, rovnakým spôsobom ako by ste obrátili zoznam."
      ],
      "metadata": {
        "id": "caB-V9gZWpCr"
      }
    },
    {
      "cell_type": "code",
      "source": [],
      "metadata": {
        "id": "_9uQQPbMYzBj"
      },
      "execution_count": null,
      "outputs": []
    }
  ],
  "metadata": {
    "celltoolbar": "Tags",
    "colab": {
      "provenance": [],
      "include_colab_link": true
    },
    "kernelspec": {
      "display_name": "Python 3",
      "language": "python",
      "name": "python3"
    },
    "language_info": {
      "codemirror_mode": {
        "name": "ipython",
        "version": 3
      },
      "file_extension": ".py",
      "mimetype": "text/x-python",
      "name": "python",
      "nbconvert_exporter": "python",
      "pygments_lexer": "ipython3",
      "version": "3.7.5"
    }
  },
  "nbformat": 4,
  "nbformat_minor": 0
}